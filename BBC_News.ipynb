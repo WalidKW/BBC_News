{
 "cells": [
  {
   "cell_type": "markdown",
   "metadata": {},
   "source": [
    "![Pictures/bbc_news_logo.png](Pictures/bbc_news_logo.png)"
   ]
  },
  {
   "cell_type": "markdown",
   "metadata": {},
   "source": [
    "# <span style='color:Red; font-weight:bold;'> BBC News </span>\n",
    "\n",
    "### <span style='color:aqua; font-weight:bold;'> About Dataset </span>\n",
    "\n",
    "<b>Context<b>\n",
    "\n",
    "Self updating dataset. It collects RSS Feeds from BBC News using a Kernel: https://www.kaggle.com/gpreda/bbc-news-rss-feeds .\n",
    "    The Kernel is run with a fixed frequency and the dataset is updated using the output of the Notebook.\n",
    "\n",
    "<b>Contents<b>\n",
    "\n",
    "    BBC News RSS Feeds. The data contains the following columns:\n",
    "\n",
    "    *title\n",
    "    *pubDate\n",
    "    *guid\n",
    "    *link\n",
    "    *description\n",
    "\n",
    "\n",
    "<b>Collection method<b>\n",
    "\n",
    "    Uses requests_html and BeautifulSoup to collect RSS Feeds from BBC News site.\n",
    "\n",
    "<b>Acknowledgements<b>\n",
    "\n",
    "    The content is proprietary of BBC\n",
    "\n",
    "<b>Inspiration<b>\n",
    "\n",
    "    Use the data to analyze the sentiment of news, from title and description\n"
   ]
  },
  {
   "cell_type": "markdown",
   "metadata": {},
   "source": [
    "### <span style='color:aqua; font-weight:bold;'> Import Packages and Load the data </span>"
   ]
  },
  {
   "cell_type": "code",
   "execution_count": 22,
   "metadata": {},
   "outputs": [],
   "source": [
    "#Essentails\n",
    "import numpy as np\n",
    "import pandas as pd\n",
    "\n",
    "#Visulization\n",
    "import seaborn as sns\n",
    "import matplotlib.pyplot as plt\n",
    "import plotly.express as ex\n",
    "\n",
    "#Modeling\n"
   ]
  },
  {
   "cell_type": "code",
   "execution_count": 14,
   "metadata": {},
   "outputs": [],
   "source": [
    "news_df = pd.read_csv('bbc_news.csv')"
   ]
  },
  {
   "cell_type": "markdown",
   "metadata": {},
   "source": [
    "# <span style='color:dodgerblue; font-weight:bold;'>Exploratory Data Analysis </span>"
   ]
  },
  {
   "cell_type": "code",
   "execution_count": 15,
   "metadata": {},
   "outputs": [
    {
     "data": {
      "text/html": [
       "<div>\n",
       "<style scoped>\n",
       "    .dataframe tbody tr th:only-of-type {\n",
       "        vertical-align: middle;\n",
       "    }\n",
       "\n",
       "    .dataframe tbody tr th {\n",
       "        vertical-align: top;\n",
       "    }\n",
       "\n",
       "    .dataframe thead th {\n",
       "        text-align: right;\n",
       "    }\n",
       "</style>\n",
       "<table border=\"1\" class=\"dataframe\">\n",
       "  <thead>\n",
       "    <tr style=\"text-align: right;\">\n",
       "      <th></th>\n",
       "      <th>title</th>\n",
       "      <th>pubDate</th>\n",
       "      <th>guid</th>\n",
       "      <th>link</th>\n",
       "      <th>description</th>\n",
       "    </tr>\n",
       "  </thead>\n",
       "  <tbody>\n",
       "    <tr>\n",
       "      <th>0</th>\n",
       "      <td>Ukraine: Angry Zelensky vows to punish Russian...</td>\n",
       "      <td>Mon, 07 Mar 2022 08:01:56 GMT</td>\n",
       "      <td>https://www.bbc.co.uk/news/world-europe-60638042</td>\n",
       "      <td>https://www.bbc.co.uk/news/world-europe-606380...</td>\n",
       "      <td>The Ukrainian president says the country will ...</td>\n",
       "    </tr>\n",
       "    <tr>\n",
       "      <th>1</th>\n",
       "      <td>War in Ukraine: Taking cover in a town under a...</td>\n",
       "      <td>Sun, 06 Mar 2022 22:49:58 GMT</td>\n",
       "      <td>https://www.bbc.co.uk/news/world-europe-60641873</td>\n",
       "      <td>https://www.bbc.co.uk/news/world-europe-606418...</td>\n",
       "      <td>Jeremy Bowen was on the frontline in Irpin, as...</td>\n",
       "    </tr>\n",
       "    <tr>\n",
       "      <th>2</th>\n",
       "      <td>Ukraine war 'catastrophic for global food'</td>\n",
       "      <td>Mon, 07 Mar 2022 00:14:42 GMT</td>\n",
       "      <td>https://www.bbc.co.uk/news/business-60623941</td>\n",
       "      <td>https://www.bbc.co.uk/news/business-60623941?a...</td>\n",
       "      <td>One of the world's biggest fertiliser firms sa...</td>\n",
       "    </tr>\n",
       "    <tr>\n",
       "      <th>3</th>\n",
       "      <td>Manchester Arena bombing: Saffie Roussos's par...</td>\n",
       "      <td>Mon, 07 Mar 2022 00:05:40 GMT</td>\n",
       "      <td>https://www.bbc.co.uk/news/uk-60579079</td>\n",
       "      <td>https://www.bbc.co.uk/news/uk-60579079?at_medi...</td>\n",
       "      <td>The parents of the Manchester Arena bombing's ...</td>\n",
       "    </tr>\n",
       "    <tr>\n",
       "      <th>4</th>\n",
       "      <td>Ukraine conflict: Oil price soars to highest l...</td>\n",
       "      <td>Mon, 07 Mar 2022 08:15:53 GMT</td>\n",
       "      <td>https://www.bbc.co.uk/news/business-60642786</td>\n",
       "      <td>https://www.bbc.co.uk/news/business-60642786?a...</td>\n",
       "      <td>Consumers are feeling the impact of higher ene...</td>\n",
       "    </tr>\n",
       "  </tbody>\n",
       "</table>\n",
       "</div>"
      ],
      "text/plain": [
       "                                               title  \\\n",
       "0  Ukraine: Angry Zelensky vows to punish Russian...   \n",
       "1  War in Ukraine: Taking cover in a town under a...   \n",
       "2         Ukraine war 'catastrophic for global food'   \n",
       "3  Manchester Arena bombing: Saffie Roussos's par...   \n",
       "4  Ukraine conflict: Oil price soars to highest l...   \n",
       "\n",
       "                         pubDate  \\\n",
       "0  Mon, 07 Mar 2022 08:01:56 GMT   \n",
       "1  Sun, 06 Mar 2022 22:49:58 GMT   \n",
       "2  Mon, 07 Mar 2022 00:14:42 GMT   \n",
       "3  Mon, 07 Mar 2022 00:05:40 GMT   \n",
       "4  Mon, 07 Mar 2022 08:15:53 GMT   \n",
       "\n",
       "                                               guid  \\\n",
       "0  https://www.bbc.co.uk/news/world-europe-60638042   \n",
       "1  https://www.bbc.co.uk/news/world-europe-60641873   \n",
       "2      https://www.bbc.co.uk/news/business-60623941   \n",
       "3            https://www.bbc.co.uk/news/uk-60579079   \n",
       "4      https://www.bbc.co.uk/news/business-60642786   \n",
       "\n",
       "                                                link  \\\n",
       "0  https://www.bbc.co.uk/news/world-europe-606380...   \n",
       "1  https://www.bbc.co.uk/news/world-europe-606418...   \n",
       "2  https://www.bbc.co.uk/news/business-60623941?a...   \n",
       "3  https://www.bbc.co.uk/news/uk-60579079?at_medi...   \n",
       "4  https://www.bbc.co.uk/news/business-60642786?a...   \n",
       "\n",
       "                                         description  \n",
       "0  The Ukrainian president says the country will ...  \n",
       "1  Jeremy Bowen was on the frontline in Irpin, as...  \n",
       "2  One of the world's biggest fertiliser firms sa...  \n",
       "3  The parents of the Manchester Arena bombing's ...  \n",
       "4  Consumers are feeling the impact of higher ene...  "
      ]
     },
     "execution_count": 15,
     "metadata": {},
     "output_type": "execute_result"
    }
   ],
   "source": [
    "news_df.head() # First 5 rows"
   ]
  },
  {
   "cell_type": "code",
   "execution_count": 16,
   "metadata": {},
   "outputs": [
    {
     "data": {
      "text/html": [
       "<div>\n",
       "<style scoped>\n",
       "    .dataframe tbody tr th:only-of-type {\n",
       "        vertical-align: middle;\n",
       "    }\n",
       "\n",
       "    .dataframe tbody tr th {\n",
       "        vertical-align: top;\n",
       "    }\n",
       "\n",
       "    .dataframe thead th {\n",
       "        text-align: right;\n",
       "    }\n",
       "</style>\n",
       "<table border=\"1\" class=\"dataframe\">\n",
       "  <thead>\n",
       "    <tr style=\"text-align: right;\">\n",
       "      <th></th>\n",
       "      <th>title</th>\n",
       "      <th>pubDate</th>\n",
       "      <th>guid</th>\n",
       "      <th>link</th>\n",
       "      <th>description</th>\n",
       "    </tr>\n",
       "  </thead>\n",
       "  <tbody>\n",
       "    <tr>\n",
       "      <th>37668</th>\n",
       "      <td>Finucane makes history with third medal in Paris</td>\n",
       "      <td>Sun, 11 Aug 2024 11:24:03 GMT</td>\n",
       "      <td>https://www.bbc.com/sport/olympics/articles/ce...</td>\n",
       "      <td>https://www.bbc.com/sport/olympics/articles/ce...</td>\n",
       "      <td>Emma Finucane makes British Olympic history by...</td>\n",
       "    </tr>\n",
       "    <tr>\n",
       "      <th>37669</th>\n",
       "      <td>Family remember Alice at Southport funeral</td>\n",
       "      <td>Sun, 11 Aug 2024 20:59:44 GMT</td>\n",
       "      <td>https://www.bbc.com/news/articles/cwyj8wz8157o#12</td>\n",
       "      <td>https://www.bbc.com/news/articles/cwyj8wz8157o</td>\n",
       "      <td>A final photo of Alice taken before the Taylor...</td>\n",
       "    </tr>\n",
       "    <tr>\n",
       "      <th>37670</th>\n",
       "      <td>'We will not allow hatred and mindless violenc...</td>\n",
       "      <td>Sun, 11 Aug 2024 18:42:58 GMT</td>\n",
       "      <td>https://www.bbc.com/news/articles/c5y3w69vpgko#12</td>\n",
       "      <td>https://www.bbc.com/news/articles/c5y3w69vpgko</td>\n",
       "      <td>NI's chief constable condemns race hate attack...</td>\n",
       "    </tr>\n",
       "    <tr>\n",
       "      <th>37671</th>\n",
       "      <td>Unions to decide whether to call off bin strike</td>\n",
       "      <td>Sun, 11 Aug 2024 17:51:07 GMT</td>\n",
       "      <td>https://www.bbc.com/news/articles/c39k0n7d2kgo#12</td>\n",
       "      <td>https://www.bbc.com/news/articles/c39k0n7d2kgo</td>\n",
       "      <td>Unions will meet on Monday to decide whether t...</td>\n",
       "    </tr>\n",
       "    <tr>\n",
       "      <th>37672</th>\n",
       "      <td>Welsh sixth-form uni applications lowest in UK</td>\n",
       "      <td>Sun, 11 Aug 2024 21:00:08 GMT</td>\n",
       "      <td>https://www.bbc.com/news/articles/ckg2ngl23m0o#12</td>\n",
       "      <td>https://www.bbc.com/news/articles/ckg2ngl23m0o</td>\n",
       "      <td>A growing gap in applications between Wales an...</td>\n",
       "    </tr>\n",
       "  </tbody>\n",
       "</table>\n",
       "</div>"
      ],
      "text/plain": [
       "                                                   title  \\\n",
       "37668   Finucane makes history with third medal in Paris   \n",
       "37669         Family remember Alice at Southport funeral   \n",
       "37670  'We will not allow hatred and mindless violenc...   \n",
       "37671    Unions to decide whether to call off bin strike   \n",
       "37672     Welsh sixth-form uni applications lowest in UK   \n",
       "\n",
       "                             pubDate  \\\n",
       "37668  Sun, 11 Aug 2024 11:24:03 GMT   \n",
       "37669  Sun, 11 Aug 2024 20:59:44 GMT   \n",
       "37670  Sun, 11 Aug 2024 18:42:58 GMT   \n",
       "37671  Sun, 11 Aug 2024 17:51:07 GMT   \n",
       "37672  Sun, 11 Aug 2024 21:00:08 GMT   \n",
       "\n",
       "                                                    guid  \\\n",
       "37668  https://www.bbc.com/sport/olympics/articles/ce...   \n",
       "37669  https://www.bbc.com/news/articles/cwyj8wz8157o#12   \n",
       "37670  https://www.bbc.com/news/articles/c5y3w69vpgko#12   \n",
       "37671  https://www.bbc.com/news/articles/c39k0n7d2kgo#12   \n",
       "37672  https://www.bbc.com/news/articles/ckg2ngl23m0o#12   \n",
       "\n",
       "                                                    link  \\\n",
       "37668  https://www.bbc.com/sport/olympics/articles/ce...   \n",
       "37669     https://www.bbc.com/news/articles/cwyj8wz8157o   \n",
       "37670     https://www.bbc.com/news/articles/c5y3w69vpgko   \n",
       "37671     https://www.bbc.com/news/articles/c39k0n7d2kgo   \n",
       "37672     https://www.bbc.com/news/articles/ckg2ngl23m0o   \n",
       "\n",
       "                                             description  \n",
       "37668  Emma Finucane makes British Olympic history by...  \n",
       "37669  A final photo of Alice taken before the Taylor...  \n",
       "37670  NI's chief constable condemns race hate attack...  \n",
       "37671  Unions will meet on Monday to decide whether t...  \n",
       "37672  A growing gap in applications between Wales an...  "
      ]
     },
     "execution_count": 16,
     "metadata": {},
     "output_type": "execute_result"
    }
   ],
   "source": [
    "news_df.tail() # Last 5 rows"
   ]
  },
  {
   "cell_type": "code",
   "execution_count": 17,
   "metadata": {},
   "outputs": [
    {
     "name": "stdout",
     "output_type": "stream",
     "text": [
      "<class 'pandas.core.frame.DataFrame'>\n",
      "RangeIndex: 37673 entries, 0 to 37672\n",
      "Data columns (total 5 columns):\n",
      " #   Column       Non-Null Count  Dtype \n",
      "---  ------       --------------  ----- \n",
      " 0   title        37673 non-null  object\n",
      " 1   pubDate      37673 non-null  object\n",
      " 2   guid         37673 non-null  object\n",
      " 3   link         37673 non-null  object\n",
      " 4   description  37673 non-null  object\n",
      "dtypes: object(5)\n",
      "memory usage: 1.4+ MB\n"
     ]
    }
   ],
   "source": [
    "news_df.info()"
   ]
  },
  {
   "cell_type": "markdown",
   "metadata": {},
   "source": [
    "change pubDate data type please :D"
   ]
  },
  {
   "cell_type": "code",
   "execution_count": 18,
   "metadata": {},
   "outputs": [
    {
     "data": {
      "text/plain": [
       "title          0\n",
       "pubDate        0\n",
       "guid           0\n",
       "link           0\n",
       "description    0\n",
       "dtype: int64"
      ]
     },
     "execution_count": 18,
     "metadata": {},
     "output_type": "execute_result"
    }
   ],
   "source": [
    "news_df.isnull().sum()"
   ]
  },
  {
   "cell_type": "code",
   "execution_count": 19,
   "metadata": {},
   "outputs": [
    {
     "data": {
      "text/html": [
       "<div>\n",
       "<style scoped>\n",
       "    .dataframe tbody tr th:only-of-type {\n",
       "        vertical-align: middle;\n",
       "    }\n",
       "\n",
       "    .dataframe tbody tr th {\n",
       "        vertical-align: top;\n",
       "    }\n",
       "\n",
       "    .dataframe thead th {\n",
       "        text-align: right;\n",
       "    }\n",
       "</style>\n",
       "<table border=\"1\" class=\"dataframe\">\n",
       "  <thead>\n",
       "    <tr style=\"text-align: right;\">\n",
       "      <th></th>\n",
       "      <th>title</th>\n",
       "      <th>pubDate</th>\n",
       "      <th>guid</th>\n",
       "      <th>link</th>\n",
       "      <th>description</th>\n",
       "    </tr>\n",
       "  </thead>\n",
       "  <tbody>\n",
       "    <tr>\n",
       "      <th>count</th>\n",
       "      <td>37673</td>\n",
       "      <td>37673</td>\n",
       "      <td>37673</td>\n",
       "      <td>37673</td>\n",
       "      <td>37673</td>\n",
       "    </tr>\n",
       "    <tr>\n",
       "      <th>unique</th>\n",
       "      <td>35486</td>\n",
       "      <td>36051</td>\n",
       "      <td>34860</td>\n",
       "      <td>33854</td>\n",
       "      <td>34676</td>\n",
       "    </tr>\n",
       "    <tr>\n",
       "      <th>top</th>\n",
       "      <td>Election poll tracker: How do the parties comp...</td>\n",
       "      <td>Tue, 13 Jun 2023 10:25:22 GMT</td>\n",
       "      <td>https://www.bbc.co.uk/news/business-61634959</td>\n",
       "      <td>https://www.bbc.co.uk/news/business-61634959?a...</td>\n",
       "      <td>How closely have you been paying attention to ...</td>\n",
       "    </tr>\n",
       "    <tr>\n",
       "      <th>freq</th>\n",
       "      <td>34</td>\n",
       "      <td>10</td>\n",
       "      <td>63</td>\n",
       "      <td>61</td>\n",
       "      <td>80</td>\n",
       "    </tr>\n",
       "  </tbody>\n",
       "</table>\n",
       "</div>"
      ],
      "text/plain": [
       "                                                    title  \\\n",
       "count                                               37673   \n",
       "unique                                              35486   \n",
       "top     Election poll tracker: How do the parties comp...   \n",
       "freq                                                   34   \n",
       "\n",
       "                              pubDate  \\\n",
       "count                           37673   \n",
       "unique                          36051   \n",
       "top     Tue, 13 Jun 2023 10:25:22 GMT   \n",
       "freq                               10   \n",
       "\n",
       "                                                guid  \\\n",
       "count                                          37673   \n",
       "unique                                         34860   \n",
       "top     https://www.bbc.co.uk/news/business-61634959   \n",
       "freq                                              63   \n",
       "\n",
       "                                                     link  \\\n",
       "count                                               37673   \n",
       "unique                                              33854   \n",
       "top     https://www.bbc.co.uk/news/business-61634959?a...   \n",
       "freq                                                   61   \n",
       "\n",
       "                                              description  \n",
       "count                                               37673  \n",
       "unique                                              34676  \n",
       "top     How closely have you been paying attention to ...  \n",
       "freq                                                   80  "
      ]
     },
     "execution_count": 19,
     "metadata": {},
     "output_type": "execute_result"
    }
   ],
   "source": [
    "news_df.describe()"
   ]
  },
  {
   "cell_type": "markdown",
   "metadata": {},
   "source": [
    "make a plot how many news per day. =/80"
   ]
  },
  {
   "cell_type": "code",
   "execution_count": 20,
   "metadata": {},
   "outputs": [
    {
     "name": "stdout",
     "output_type": "stream",
     "text": [
      "Number of duplicated instances: 0\n"
     ]
    },
    {
     "data": {
      "text/html": [
       "<div>\n",
       "<style scoped>\n",
       "    .dataframe tbody tr th:only-of-type {\n",
       "        vertical-align: middle;\n",
       "    }\n",
       "\n",
       "    .dataframe tbody tr th {\n",
       "        vertical-align: top;\n",
       "    }\n",
       "\n",
       "    .dataframe thead th {\n",
       "        text-align: right;\n",
       "    }\n",
       "</style>\n",
       "<table border=\"1\" class=\"dataframe\">\n",
       "  <thead>\n",
       "    <tr style=\"text-align: right;\">\n",
       "      <th></th>\n",
       "      <th>title</th>\n",
       "      <th>pubDate</th>\n",
       "      <th>guid</th>\n",
       "      <th>link</th>\n",
       "      <th>description</th>\n",
       "    </tr>\n",
       "  </thead>\n",
       "  <tbody>\n",
       "  </tbody>\n",
       "</table>\n",
       "</div>"
      ],
      "text/plain": [
       "Empty DataFrame\n",
       "Columns: [title, pubDate, guid, link, description]\n",
       "Index: []"
      ]
     },
     "execution_count": 20,
     "metadata": {},
     "output_type": "execute_result"
    }
   ],
   "source": [
    "# Check for duplicates across all columns\n",
    "duplicated = news_df.duplicated()\n",
    "\n",
    "# Print the number of duplicated instances\n",
    "print(\"Number of duplicated instances:\", duplicated.sum())\n",
    "\n",
    "# Print the duplicated instances\n",
    "news_df[duplicated]"
   ]
  },
  {
   "cell_type": "markdown",
   "metadata": {},
   "source": [
    "# <span style='color:dodgerblue; font-weight:bold;'>Data Preproccesing</span> "
   ]
  },
  {
   "cell_type": "code",
   "execution_count": null,
   "metadata": {},
   "outputs": [],
   "source": []
  },
  {
   "cell_type": "markdown",
   "metadata": {},
   "source": [
    "# <span style='color:dodgerblue; font-weight:bold;'>Machine Learning</span> "
   ]
  },
  {
   "cell_type": "code",
   "execution_count": null,
   "metadata": {},
   "outputs": [],
   "source": []
  }
 ],
 "metadata": {
  "kernelspec": {
   "display_name": "base",
   "language": "python",
   "name": "python3"
  },
  "language_info": {
   "codemirror_mode": {
    "name": "ipython",
    "version": 3
   },
   "file_extension": ".py",
   "mimetype": "text/x-python",
   "name": "python",
   "nbconvert_exporter": "python",
   "pygments_lexer": "ipython3",
   "version": "3.12.4"
  }
 },
 "nbformat": 4,
 "nbformat_minor": 2
}
